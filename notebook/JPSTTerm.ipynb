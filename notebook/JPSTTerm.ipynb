{
 "cells": [
  {
   "cell_type": "code",
   "execution_count": 1,
   "id": "1b95b494-cc68-463f-9a6d-443328e729d9",
   "metadata": {},
   "outputs": [],
   "source": [
    "import pandas as pd"
   ]
  },
  {
   "cell_type": "code",
   "execution_count": 2,
   "id": "8e867da7-9d4a-41e6-be99-ebdc37391724",
   "metadata": {},
   "outputs": [],
   "source": [
    "df_process = pd.read_csv(\"../data/L13.csv\", names=[\"spell\",\"term\",\"english\"])"
   ]
  },
  {
   "cell_type": "code",
   "execution_count": 5,
   "id": "145e1fb1-6240-4d72-b333-05953fe8e3f8",
   "metadata": {},
   "outputs": [
    {
     "name": "stdout",
     "output_type": "stream",
     "text": [
      "                                english        spell        term\n",
      "0                                waiter        ウェイター       ウェイター\n",
      "1                  grandfather; old man        おじいさん       おじいさん\n",
      "2                                 adult          おとな          大人\n",
      "3                      foreign language        がいこくご         外国語\n",
      "4                    musical instrument          がっき          楽器\n",
      "5                                karate          からて          空手\n",
      "6                                 curry          カレー         カレー\n",
      "7    kimono; Japanese traditional dress          きもの          着物\n",
      "8                                  cake          ケーキ         ケーキ\n",
      "9                         advertisement         こうこく          広告\n",
      "10                      tea (black tea)         こうちゃ          紅茶\n",
      "11                             language          ことば          言葉\n",
      "12                                 golf          ゴルフ         ゴルフ\n",
      "13                              sweater         セーター        セーター\n",
      "14                             elephant           ぞう           象\n",
      "15                               violin        バイオリン       バイオリン\n",
      "16                            motorbike          バイク         バイク\n",
      "17                    (consumer) prices          ぶっか          物価\n",
      "18                              grammar         ぶんぽう          文法\n",
      "19                               lawyer         べんごし         弁護士\n",
      "20                          recruitment         ぼしゅう          募集\n",
      "21                          shop; store           みせ           店\n",
      "22                     yakuza; gangster          やくざ         やくざ\n",
      "23                 promise; appointment         やくそく          約束\n",
      "24                         (term) paper         レポート        レポート\n",
      "25                           I (formal)         わたくし           私\n",
      "26                                 glad         うれしい        うれしい\n",
      "27                                  sad         かなしい         悲しい\n",
      "28                 hot and spicy; salty          からい          辛い\n",
      "29                               strict         きびしい         厳しい\n",
      "30                          close; near          ちかい          近い\n",
      "31          various; different kinds of         いろいろ        いろいろ\n",
      "32            happy (lasting happiness)         しあわせ          幸せ\n",
      "33                              no good           だめ          だめ\n",
      "34                              to knit           あむ          編む\n",
      "35                     to lend; to rent           かす          貸す\n",
      "36        to do one's best; to try hard         がんばる         頑張る\n",
      "37                               to cry           なく          泣く\n",
      "38          to brush (teeth); to polish          みがく          磨く\n",
      "39                    to keep a promise     やくそくをまもる       約束を守る\n",
      "40         to be moved/touched (by ...)       かんどうする        感動する\n",
      "41  (someone honorable) is present/home     いらっしゃいます    いらっしゃいます\n",
      "42             as a matter of fact, ...          じつは          実は\n",
      "43                                  all          ぜんぶ          全部\n",
      "44                              one day         いちにち          一日\n",
      "45                             two days          ふつか          二日\n",
      "46                           three days          みっか          三日\n",
      "47                            four days          よっか          四日\n",
      "48                            five days          いつか          五日\n",
      "49                             six days          むいか          六日\n",
      "50                           seven days          なのか          七日\n",
      "51                           eight days          ようか          八日\n",
      "52                            nine days         ここのか          九日\n",
      "53                             ten days          とおか          十日\n",
      "54               Thank you (in advance)  よろしくおねがいします  よろしくお願いします\n"
     ]
    }
   ],
   "source": [
    "# fill in the empty terms\n",
    "df_newTerm = df_process[[\"spell\"]]\n",
    "df_newTerm = df_newTerm.rename(columns={\"spell\": \"term\"})\n",
    "# print(df_newTerm)\n",
    "df_process = df_process.combine_first(df_newTerm)\n",
    "print(df_process)"
   ]
  },
  {
   "cell_type": "code",
   "execution_count": null,
   "id": "685d5e71-b720-47ec-a032-abce4c76f2fc",
   "metadata": {},
   "outputs": [],
   "source": []
  }
 ],
 "metadata": {
  "kernelspec": {
   "display_name": "Python 3 (ipykernel)",
   "language": "python",
   "name": "python3"
  },
  "language_info": {
   "codemirror_mode": {
    "name": "ipython",
    "version": 3
   },
   "file_extension": ".py",
   "mimetype": "text/x-python",
   "name": "python",
   "nbconvert_exporter": "python",
   "pygments_lexer": "ipython3",
   "version": "3.9.7"
  }
 },
 "nbformat": 4,
 "nbformat_minor": 5
}
