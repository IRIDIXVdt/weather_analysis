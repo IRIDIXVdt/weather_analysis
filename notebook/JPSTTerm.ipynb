{
 "cells": [
  {
   "cell_type": "code",
   "execution_count": 1,
   "id": "1b95b494-cc68-463f-9a6d-443328e729d9",
   "metadata": {},
   "outputs": [],
   "source": [
    "import pandas as pd"
   ]
  },
  {
   "cell_type": "code",
   "execution_count": 2,
   "id": "8e867da7-9d4a-41e6-be99-ebdc37391724",
   "metadata": {},
   "outputs": [],
   "source": [
    "df_process = pd.read_csv(\"../data/L13.csv\", names=[\"spell\",\"term\",\"english\"])"
   ]
  },
  {
   "cell_type": "code",
   "execution_count": 3,
   "id": "145e1fb1-6240-4d72-b333-05953fe8e3f8",
   "metadata": {},
   "outputs": [
    {
     "data": {
      "text/plain": [
       "0           ウェイター\n",
       "1           おじいさん\n",
       "2             おとな\n",
       "3           がいこくご\n",
       "4             がっき\n",
       "5             からて\n",
       "6             カレー\n",
       "7             きもの\n",
       "8             ケーキ\n",
       "9            こうこく\n",
       "10           こうちゃ\n",
       "11            ことば\n",
       "12            ゴルフ\n",
       "13           セーター\n",
       "14             ぞう\n",
       "15          バイオリン\n",
       "16            バイク\n",
       "17            ぶっか\n",
       "18           ぶんぽう\n",
       "19           べんごし\n",
       "20           ぼしゅう\n",
       "21             みせ\n",
       "22            やくざ\n",
       "23           やくそく\n",
       "24           レポート\n",
       "25           わたくし\n",
       "26           うれしい\n",
       "27           かなしい\n",
       "28            からい\n",
       "29           きびしい\n",
       "30            ちかい\n",
       "31           いろいろ\n",
       "32           しあわせ\n",
       "33             だめ\n",
       "34             あむ\n",
       "35             かす\n",
       "36           がんばる\n",
       "37             なく\n",
       "38            みがく\n",
       "39       やくそくをまもる\n",
       "40         かんどうする\n",
       "41       いらっしゃいます\n",
       "42            じつは\n",
       "43            ぜんぶ\n",
       "44           いちにち\n",
       "45            ふつか\n",
       "46            みっか\n",
       "47            よっか\n",
       "48            いつか\n",
       "49            むいか\n",
       "50            なのか\n",
       "51            ようか\n",
       "52           ここのか\n",
       "53            とおか\n",
       "54    よろしくおねがいします\n",
       "Name: spell, dtype: object"
      ]
     },
     "execution_count": 3,
     "metadata": {},
     "output_type": "execute_result"
    }
   ],
   "source": [
    "df_newTerm = df_process.[\"spell\"]\n",
    "df_newTerm.rename(columns={\"spell\": \"term\"})"
   ]
  },
  {
   "cell_type": "code",
   "execution_count": null,
   "id": "685d5e71-b720-47ec-a032-abce4c76f2fc",
   "metadata": {},
   "outputs": [],
   "source": []
  }
 ],
 "metadata": {
  "kernelspec": {
   "display_name": "Python 3 (ipykernel)",
   "language": "python",
   "name": "python3"
  },
  "language_info": {
   "codemirror_mode": {
    "name": "ipython",
    "version": 3
   },
   "file_extension": ".py",
   "mimetype": "text/x-python",
   "name": "python",
   "nbconvert_exporter": "python",
   "pygments_lexer": "ipython3",
   "version": "3.9.7"
  }
 },
 "nbformat": 4,
 "nbformat_minor": 5
}
