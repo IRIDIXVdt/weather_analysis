{
 "cells": [
  {
   "cell_type": "code",
   "execution_count": 1,
   "id": "1b95b494-cc68-463f-9a6d-443328e729d9",
   "metadata": {},
   "outputs": [],
   "source": [
    "import pandas as pd\n",
    "import json"
   ]
  },
  {
   "cell_type": "code",
   "execution_count": 2,
   "id": "8e867da7-9d4a-41e6-be99-ebdc37391724",
   "metadata": {},
   "outputs": [],
   "source": [
    "chapter = 13\n",
    "df_process = pd.read_csv(f\"../data/L{chapter}.csv\", names=[\"spell\",\"term\",\"english\"])"
   ]
  },
  {
   "cell_type": "code",
   "execution_count": 3,
   "id": "145e1fb1-6240-4d72-b333-05953fe8e3f8",
   "metadata": {},
   "outputs": [],
   "source": [
    "# fill in the empty terms\n",
    "df_newTerm = df_process[[\"spell\"]]\n",
    "df_newTerm = df_newTerm.rename(columns={\"spell\": \"term\"})\n",
    "# print(df_newTerm)\n",
    "df_process = df_process.combine_first(df_newTerm)\n",
    "# print(df_process)"
   ]
  },
  {
   "cell_type": "code",
   "execution_count": 4,
   "id": "685d5e71-b720-47ec-a032-abce4c76f2fc",
   "metadata": {},
   "outputs": [],
   "source": [
    "df_process[\"def\"] = df_process[\"spell\"] + \" - \" + df_process[\"english\"]\n",
    "df_process[\"description\"] = \"ch\" + str(chapter) + \" #\" \n",
    "for index, row in df_process.iterrows():\n",
    "    # print(\"index is\",index,\"df is\",row[\"description\"])\n",
    "    row[\"description\"] = row[\"description\"]+ str(index)\n",
    "# print(df_process)"
   ]
  },
  {
   "cell_type": "markdown",
   "id": "617f91f2-415f-4ee5-8fb5-2432b6219b84",
   "metadata": {},
   "source": [
    "des = \"testd\"\n",
    "qes = \"testq\"\n",
    "ans = \"testa\"\n",
    "template = \"\"\"\n",
    "{\n",
    "      type: 'df',\n",
    "      background: '<p>What is the definition and pronounciation of the term?</p>',\n",
    "      course: 'jpst200',\n",
    "      des: '\"\"\"+des+\"\"\"',\n",
    "      qaPair: [{ question: '\"\"\"+qes+\"\"\"', answer: '\"\"\"+ans+\"\"\"' }],\n",
    "      wrongAnswer: [],\n",
    "}\"\"\"\n",
    "print(template)"
   ]
  },
  {
   "cell_type": "code",
   "execution_count": 5,
   "id": "406a78e0-a5f7-42dc-9a93-d39c6ddc60c6",
   "metadata": {},
   "outputs": [],
   "source": [
    "jsonItemArray = []\n",
    "for index, row in df_process.iterrows():\n",
    "    # print(\"index is\",index,\"df is\",row[\"description\"])\n",
    "    des = row['description']\n",
    "    qes = row['term']\n",
    "    ans = row['def']\n",
    "    template = '''{\"type\": \"df\",\n",
    "        \"background\": \"<p>What is the definition and pronunciation of the term?</p>\",\n",
    "        \"course\": \"jpst200\",\n",
    "        \"des\": \"''' + des + '''\",\n",
    "        \"qaPair\": [{ \n",
    "              \"question\": \"''' + qes + '''\",\n",
    "              \"answer\": \"''' + ans + '''\"\n",
    "              }],\n",
    "        \"wrongAnswer\": []}'''\n",
    "    # print(template)\n",
    "    jsonDataItem = json.loads(template)\n",
    "    # print(jsonDataItem)\n",
    "    jsonItemArray.append(jsonDataItem)\n",
    "# print(jsonItemArray)"
   ]
  },
  {
   "cell_type": "code",
   "execution_count": 6,
   "id": "6b8f1bdc-62ba-4020-8368-540ccbf69989",
   "metadata": {},
   "outputs": [],
   "source": [
    "# jsonData = json.load(jsonString)"
   ]
  },
  {
   "cell_type": "markdown",
   "id": "a1198f9e-a1ec-49b9-8a5a-65115b395a9e",
   "metadata": {},
   "source": [
    "\n",
    "test = '''{\"type\": \"df\",\"background\": \"<p>What is the definition and pronunciation of the term?</p>\",\n",
    "          \"course\": \"jpst200\",\n",
    "          \"des\": \"''' + des + '''\",\n",
    "          \"qaPair\": [{ \n",
    "              \"question\": \"''' + qes + '''\",\n",
    "              \"answer\": \"''' + ans + '''\"\n",
    "              }],\n",
    "          \"wrongAnswer\": []}'''\n",
    "# print(test)\n",
    "testjsonload = json.loads(test)\n",
    "print(testjsonload)"
   ]
  },
  {
   "cell_type": "code",
   "execution_count": 10,
   "id": "458c0c24-769d-40db-9982-049a0b1cc4f1",
   "metadata": {},
   "outputs": [],
   "source": [
    "with open(\"../data/verbChpt\"+str(chapter)+\".json\", \"w\") as outfile:\n",
    "    json.dump(jsonItemArray, outfile)"
   ]
  },
  {
   "cell_type": "code",
   "execution_count": null,
   "id": "64018bd8-f2d9-4cdf-9af4-424a085fbf63",
   "metadata": {},
   "outputs": [],
   "source": []
  }
 ],
 "metadata": {
  "kernelspec": {
   "display_name": "Python 3 (ipykernel)",
   "language": "python",
   "name": "python3"
  },
  "language_info": {
   "codemirror_mode": {
    "name": "ipython",
    "version": 3
   },
   "file_extension": ".py",
   "mimetype": "text/x-python",
   "name": "python",
   "nbconvert_exporter": "python",
   "pygments_lexer": "ipython3",
   "version": "3.9.7"
  }
 },
 "nbformat": 4,
 "nbformat_minor": 5
}
