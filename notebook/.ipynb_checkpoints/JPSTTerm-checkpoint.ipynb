{
 "cells": [
  {
   "cell_type": "code",
   "execution_count": 18,
   "id": "1b95b494-cc68-463f-9a6d-443328e729d9",
   "metadata": {},
   "outputs": [],
   "source": [
    "import pandas as pd\n",
    "import json"
   ]
  },
  {
   "cell_type": "code",
   "execution_count": 19,
   "id": "8e867da7-9d4a-41e6-be99-ebdc37391724",
   "metadata": {},
   "outputs": [],
   "source": [
    "chapter = 13\n",
    "df_process = pd.read_csv(f\"../data/L{chapter}.csv\", names=[\"spell\",\"term\",\"english\"])"
   ]
  },
  {
   "cell_type": "code",
   "execution_count": 20,
   "id": "145e1fb1-6240-4d72-b333-05953fe8e3f8",
   "metadata": {},
   "outputs": [],
   "source": [
    "# fill in the empty terms\n",
    "df_newTerm = df_process[[\"spell\"]]\n",
    "df_newTerm = df_newTerm.rename(columns={\"spell\": \"term\"})\n",
    "# print(df_newTerm)\n",
    "df_process = df_process.combine_first(df_newTerm)\n",
    "# print(df_process)"
   ]
  },
  {
   "cell_type": "code",
   "execution_count": 22,
   "id": "685d5e71-b720-47ec-a032-abce4c76f2fc",
   "metadata": {},
   "outputs": [],
   "source": [
    "df_process[\"def\"] = df_process[\"spell\"] + \" - \" + df_process[\"english\"]\n",
    "df_process[\"description\"] = \"ch\" + str(chapter) + \" #\" \n",
    "for index, row in df_process.iterrows():\n",
    "    # print(\"index is\",index,\"df is\",row[\"description\"])\n",
    "    row[\"description\"] = row[\"description\"]+ str(index)\n",
    "# print(df_process)"
   ]
  },
  {
   "cell_type": "markdown",
   "id": "617f91f2-415f-4ee5-8fb5-2432b6219b84",
   "metadata": {},
   "source": [
    "des = \"testd\"\n",
    "qes = \"testq\"\n",
    "ans = \"testa\"\n",
    "template = \"\"\"\n",
    "{\n",
    "      type: 'df',\n",
    "      background: '<p>What is the definition and pronounciation of the term?</p>',\n",
    "      course: 'jpst200',\n",
    "      des: '\"\"\"+des+\"\"\"',\n",
    "      qaPair: [{ question: '\"\"\"+qes+\"\"\"', answer: '\"\"\"+ans+\"\"\"' }],\n",
    "      wrongAnswer: [],\n",
    "}\"\"\"\n",
    "print(template)"
   ]
  },
  {
   "cell_type": "code",
   "execution_count": 57,
   "id": "406a78e0-a5f7-42dc-9a93-d39c6ddc60c6",
   "metadata": {},
   "outputs": [
    {
     "name": "stdout",
     "output_type": "stream",
     "text": [
      "[{'type': 'df', 'background': '<p>What is the definition and pronunciation of the term?</p>', 'course': 'jpst200', 'des': 'ch13 #0', 'qaPair': [{'question': 'ウェイター', 'answer': 'ウェイター - waiter'}], 'wrongAnswer': []}, {'type': 'df', 'background': '<p>What is the definition and pronunciation of the term?</p>', 'course': 'jpst200', 'des': 'ch13 #1', 'qaPair': [{'question': 'おじいさん', 'answer': 'おじいさん - grandfather; old man'}], 'wrongAnswer': []}, {'type': 'df', 'background': '<p>What is the definition and pronunciation of the term?</p>', 'course': 'jpst200', 'des': 'ch13 #2', 'qaPair': [{'question': '大人', 'answer': 'おとな - adult'}], 'wrongAnswer': []}, {'type': 'df', 'background': '<p>What is the definition and pronunciation of the term?</p>', 'course': 'jpst200', 'des': 'ch13 #3', 'qaPair': [{'question': '外国語', 'answer': 'がいこくご - foreign language'}], 'wrongAnswer': []}, {'type': 'df', 'background': '<p>What is the definition and pronunciation of the term?</p>', 'course': 'jpst200', 'des': 'ch13 #4', 'qaPair': [{'question': '楽器', 'answer': 'がっき - musical instrument'}], 'wrongAnswer': []}, {'type': 'df', 'background': '<p>What is the definition and pronunciation of the term?</p>', 'course': 'jpst200', 'des': 'ch13 #5', 'qaPair': [{'question': '空手', 'answer': 'からて - karate'}], 'wrongAnswer': []}, {'type': 'df', 'background': '<p>What is the definition and pronunciation of the term?</p>', 'course': 'jpst200', 'des': 'ch13 #6', 'qaPair': [{'question': 'カレー', 'answer': 'カレー - curry'}], 'wrongAnswer': []}, {'type': 'df', 'background': '<p>What is the definition and pronunciation of the term?</p>', 'course': 'jpst200', 'des': 'ch13 #7', 'qaPair': [{'question': '着物', 'answer': 'きもの - kimono; Japanese traditional dress'}], 'wrongAnswer': []}, {'type': 'df', 'background': '<p>What is the definition and pronunciation of the term?</p>', 'course': 'jpst200', 'des': 'ch13 #8', 'qaPair': [{'question': 'ケーキ', 'answer': 'ケーキ - cake'}], 'wrongAnswer': []}, {'type': 'df', 'background': '<p>What is the definition and pronunciation of the term?</p>', 'course': 'jpst200', 'des': 'ch13 #9', 'qaPair': [{'question': '広告', 'answer': 'こうこく - advertisement'}], 'wrongAnswer': []}, {'type': 'df', 'background': '<p>What is the definition and pronunciation of the term?</p>', 'course': 'jpst200', 'des': 'ch13 #10', 'qaPair': [{'question': '紅茶', 'answer': 'こうちゃ - tea (black tea)'}], 'wrongAnswer': []}, {'type': 'df', 'background': '<p>What is the definition and pronunciation of the term?</p>', 'course': 'jpst200', 'des': 'ch13 #11', 'qaPair': [{'question': '言葉', 'answer': 'ことば - language'}], 'wrongAnswer': []}, {'type': 'df', 'background': '<p>What is the definition and pronunciation of the term?</p>', 'course': 'jpst200', 'des': 'ch13 #12', 'qaPair': [{'question': 'ゴルフ', 'answer': 'ゴルフ - golf'}], 'wrongAnswer': []}, {'type': 'df', 'background': '<p>What is the definition and pronunciation of the term?</p>', 'course': 'jpst200', 'des': 'ch13 #13', 'qaPair': [{'question': 'セーター', 'answer': 'セーター - sweater'}], 'wrongAnswer': []}, {'type': 'df', 'background': '<p>What is the definition and pronunciation of the term?</p>', 'course': 'jpst200', 'des': 'ch13 #14', 'qaPair': [{'question': '象', 'answer': 'ぞう - elephant'}], 'wrongAnswer': []}, {'type': 'df', 'background': '<p>What is the definition and pronunciation of the term?</p>', 'course': 'jpst200', 'des': 'ch13 #15', 'qaPair': [{'question': 'バイオリン', 'answer': 'バイオリン - violin'}], 'wrongAnswer': []}, {'type': 'df', 'background': '<p>What is the definition and pronunciation of the term?</p>', 'course': 'jpst200', 'des': 'ch13 #16', 'qaPair': [{'question': 'バイク', 'answer': 'バイク - motorbike'}], 'wrongAnswer': []}, {'type': 'df', 'background': '<p>What is the definition and pronunciation of the term?</p>', 'course': 'jpst200', 'des': 'ch13 #17', 'qaPair': [{'question': '物価', 'answer': 'ぶっか - (consumer) prices'}], 'wrongAnswer': []}, {'type': 'df', 'background': '<p>What is the definition and pronunciation of the term?</p>', 'course': 'jpst200', 'des': 'ch13 #18', 'qaPair': [{'question': '文法', 'answer': 'ぶんぽう - grammar'}], 'wrongAnswer': []}, {'type': 'df', 'background': '<p>What is the definition and pronunciation of the term?</p>', 'course': 'jpst200', 'des': 'ch13 #19', 'qaPair': [{'question': '弁護士', 'answer': 'べんごし - lawyer'}], 'wrongAnswer': []}, {'type': 'df', 'background': '<p>What is the definition and pronunciation of the term?</p>', 'course': 'jpst200', 'des': 'ch13 #20', 'qaPair': [{'question': '募集', 'answer': 'ぼしゅう - recruitment'}], 'wrongAnswer': []}, {'type': 'df', 'background': '<p>What is the definition and pronunciation of the term?</p>', 'course': 'jpst200', 'des': 'ch13 #21', 'qaPair': [{'question': '店', 'answer': 'みせ - shop; store'}], 'wrongAnswer': []}, {'type': 'df', 'background': '<p>What is the definition and pronunciation of the term?</p>', 'course': 'jpst200', 'des': 'ch13 #22', 'qaPair': [{'question': 'やくざ', 'answer': 'やくざ - yakuza; gangster'}], 'wrongAnswer': []}, {'type': 'df', 'background': '<p>What is the definition and pronunciation of the term?</p>', 'course': 'jpst200', 'des': 'ch13 #23', 'qaPair': [{'question': '約束', 'answer': 'やくそく - promise; appointment'}], 'wrongAnswer': []}, {'type': 'df', 'background': '<p>What is the definition and pronunciation of the term?</p>', 'course': 'jpst200', 'des': 'ch13 #24', 'qaPair': [{'question': 'レポート', 'answer': 'レポート - (term) paper'}], 'wrongAnswer': []}, {'type': 'df', 'background': '<p>What is the definition and pronunciation of the term?</p>', 'course': 'jpst200', 'des': 'ch13 #25', 'qaPair': [{'question': '私', 'answer': 'わたくし - I (formal)'}], 'wrongAnswer': []}, {'type': 'df', 'background': '<p>What is the definition and pronunciation of the term?</p>', 'course': 'jpst200', 'des': 'ch13 #26', 'qaPair': [{'question': 'うれしい', 'answer': 'うれしい - glad'}], 'wrongAnswer': []}, {'type': 'df', 'background': '<p>What is the definition and pronunciation of the term?</p>', 'course': 'jpst200', 'des': 'ch13 #27', 'qaPair': [{'question': '悲しい', 'answer': 'かなしい - sad'}], 'wrongAnswer': []}, {'type': 'df', 'background': '<p>What is the definition and pronunciation of the term?</p>', 'course': 'jpst200', 'des': 'ch13 #28', 'qaPair': [{'question': '辛い', 'answer': 'からい - hot and spicy; salty'}], 'wrongAnswer': []}, {'type': 'df', 'background': '<p>What is the definition and pronunciation of the term?</p>', 'course': 'jpst200', 'des': 'ch13 #29', 'qaPair': [{'question': '厳しい', 'answer': 'きびしい - strict'}], 'wrongAnswer': []}, {'type': 'df', 'background': '<p>What is the definition and pronunciation of the term?</p>', 'course': 'jpst200', 'des': 'ch13 #30', 'qaPair': [{'question': '近い', 'answer': 'ちかい - close; near'}], 'wrongAnswer': []}, {'type': 'df', 'background': '<p>What is the definition and pronunciation of the term?</p>', 'course': 'jpst200', 'des': 'ch13 #31', 'qaPair': [{'question': 'いろいろ', 'answer': 'いろいろ - various; different kinds of'}], 'wrongAnswer': []}, {'type': 'df', 'background': '<p>What is the definition and pronunciation of the term?</p>', 'course': 'jpst200', 'des': 'ch13 #32', 'qaPair': [{'question': '幸せ', 'answer': 'しあわせ - happy (lasting happiness)'}], 'wrongAnswer': []}, {'type': 'df', 'background': '<p>What is the definition and pronunciation of the term?</p>', 'course': 'jpst200', 'des': 'ch13 #33', 'qaPair': [{'question': 'だめ', 'answer': 'だめ - no good'}], 'wrongAnswer': []}, {'type': 'df', 'background': '<p>What is the definition and pronunciation of the term?</p>', 'course': 'jpst200', 'des': 'ch13 #34', 'qaPair': [{'question': '編む', 'answer': 'あむ - to knit'}], 'wrongAnswer': []}, {'type': 'df', 'background': '<p>What is the definition and pronunciation of the term?</p>', 'course': 'jpst200', 'des': 'ch13 #35', 'qaPair': [{'question': '貸す', 'answer': 'かす - to lend; to rent'}], 'wrongAnswer': []}, {'type': 'df', 'background': '<p>What is the definition and pronunciation of the term?</p>', 'course': 'jpst200', 'des': 'ch13 #36', 'qaPair': [{'question': '頑張る', 'answer': \"がんばる - to do one's best; to try hard\"}], 'wrongAnswer': []}, {'type': 'df', 'background': '<p>What is the definition and pronunciation of the term?</p>', 'course': 'jpst200', 'des': 'ch13 #37', 'qaPair': [{'question': '泣く', 'answer': 'なく - to cry'}], 'wrongAnswer': []}, {'type': 'df', 'background': '<p>What is the definition and pronunciation of the term?</p>', 'course': 'jpst200', 'des': 'ch13 #38', 'qaPair': [{'question': '磨く', 'answer': 'みがく - to brush (teeth); to polish'}], 'wrongAnswer': []}, {'type': 'df', 'background': '<p>What is the definition and pronunciation of the term?</p>', 'course': 'jpst200', 'des': 'ch13 #39', 'qaPair': [{'question': '約束を守る', 'answer': 'やくそくをまもる - to keep a promise'}], 'wrongAnswer': []}, {'type': 'df', 'background': '<p>What is the definition and pronunciation of the term?</p>', 'course': 'jpst200', 'des': 'ch13 #40', 'qaPair': [{'question': '感動する', 'answer': 'かんどうする - to be moved/touched (by ...)'}], 'wrongAnswer': []}, {'type': 'df', 'background': '<p>What is the definition and pronunciation of the term?</p>', 'course': 'jpst200', 'des': 'ch13 #41', 'qaPair': [{'question': 'いらっしゃいます', 'answer': 'いらっしゃいます - (someone honorable) is present/home'}], 'wrongAnswer': []}, {'type': 'df', 'background': '<p>What is the definition and pronunciation of the term?</p>', 'course': 'jpst200', 'des': 'ch13 #42', 'qaPair': [{'question': '実は', 'answer': 'じつは - as a matter of fact, ...'}], 'wrongAnswer': []}, {'type': 'df', 'background': '<p>What is the definition and pronunciation of the term?</p>', 'course': 'jpst200', 'des': 'ch13 #43', 'qaPair': [{'question': '全部', 'answer': 'ぜんぶ - all'}], 'wrongAnswer': []}, {'type': 'df', 'background': '<p>What is the definition and pronunciation of the term?</p>', 'course': 'jpst200', 'des': 'ch13 #44', 'qaPair': [{'question': '一日', 'answer': 'いちにち - one day'}], 'wrongAnswer': []}, {'type': 'df', 'background': '<p>What is the definition and pronunciation of the term?</p>', 'course': 'jpst200', 'des': 'ch13 #45', 'qaPair': [{'question': '二日', 'answer': 'ふつか - two days'}], 'wrongAnswer': []}, {'type': 'df', 'background': '<p>What is the definition and pronunciation of the term?</p>', 'course': 'jpst200', 'des': 'ch13 #46', 'qaPair': [{'question': '三日', 'answer': 'みっか - three days'}], 'wrongAnswer': []}, {'type': 'df', 'background': '<p>What is the definition and pronunciation of the term?</p>', 'course': 'jpst200', 'des': 'ch13 #47', 'qaPair': [{'question': '四日', 'answer': 'よっか - four days'}], 'wrongAnswer': []}, {'type': 'df', 'background': '<p>What is the definition and pronunciation of the term?</p>', 'course': 'jpst200', 'des': 'ch13 #48', 'qaPair': [{'question': '五日', 'answer': 'いつか - five days'}], 'wrongAnswer': []}, {'type': 'df', 'background': '<p>What is the definition and pronunciation of the term?</p>', 'course': 'jpst200', 'des': 'ch13 #49', 'qaPair': [{'question': '六日', 'answer': 'むいか - six days'}], 'wrongAnswer': []}, {'type': 'df', 'background': '<p>What is the definition and pronunciation of the term?</p>', 'course': 'jpst200', 'des': 'ch13 #50', 'qaPair': [{'question': '七日', 'answer': 'なのか - seven days'}], 'wrongAnswer': []}, {'type': 'df', 'background': '<p>What is the definition and pronunciation of the term?</p>', 'course': 'jpst200', 'des': 'ch13 #51', 'qaPair': [{'question': '八日', 'answer': 'ようか - eight days'}], 'wrongAnswer': []}, {'type': 'df', 'background': '<p>What is the definition and pronunciation of the term?</p>', 'course': 'jpst200', 'des': 'ch13 #52', 'qaPair': [{'question': '九日', 'answer': 'ここのか - nine days'}], 'wrongAnswer': []}, {'type': 'df', 'background': '<p>What is the definition and pronunciation of the term?</p>', 'course': 'jpst200', 'des': 'ch13 #53', 'qaPair': [{'question': '十日', 'answer': 'とおか - ten days'}], 'wrongAnswer': []}, {'type': 'df', 'background': '<p>What is the definition and pronunciation of the term?</p>', 'course': 'jpst200', 'des': 'ch13 #54', 'qaPair': [{'question': 'よろしくお願いします', 'answer': 'よろしくおねがいします - Thank you (in advance)'}], 'wrongAnswer': []}]\n"
     ]
    }
   ],
   "source": [
    "jsonItemArray = []\n",
    "for index, row in df_process.iterrows():\n",
    "    # print(\"index is\",index,\"df is\",row[\"description\"])\n",
    "    des = row['description']\n",
    "    qes = row['term']\n",
    "    ans = row['def']\n",
    "    template = '''{\"type\": \"df\",\n",
    "        \"background\": \"<p>What is the definition and pronunciation of the term?</p>\",\n",
    "        \"course\": \"jpst200\",\n",
    "        \"des\": \"''' + des + '''\",\n",
    "        \"qaPair\": [{ \n",
    "              \"question\": \"''' + qes + '''\",\n",
    "              \"answer\": \"''' + ans + '''\"\n",
    "              }],\n",
    "        \"wrongAnswer\": []}'''\n",
    "    # print(template)\n",
    "    jsonDataItem = json.loads(template)\n",
    "    # print(jsonDataItem)\n",
    "    jsonItemArray.append(jsonDataItem)\n",
    "print(jsonItemArray)"
   ]
  },
  {
   "cell_type": "code",
   "execution_count": 38,
   "id": "6b8f1bdc-62ba-4020-8368-540ccbf69989",
   "metadata": {},
   "outputs": [],
   "source": [
    "# jsonData = json.load(jsonString)"
   ]
  },
  {
   "cell_type": "code",
   "execution_count": 53,
   "id": "1618a391-edf5-4dcf-ae9c-85d507b47fb3",
   "metadata": {},
   "outputs": [
    {
     "name": "stdout",
     "output_type": "stream",
     "text": [
      "{\"type\": \"df\",\"background\": \"<p>What is the definition and pronunciation of the term?</p>\",\n",
      "          \"course\": \"jpst200\",\n",
      "          \"des\": \"des\",\n",
      "          \"qaPair\": [{ \n",
      "              \"question\": \"qes\",\n",
      "              \"answer\": \"ans\"\n",
      "              }],\n",
      "          \"wrongAnswer\": []}\n",
      "{'type': 'df', 'background': '<p>What is the definition and pronunciation of the term?</p>', 'course': 'jpst200', 'des': 'des', 'qaPair': [{'question': 'qes', 'answer': 'ans'}], 'wrongAnswer': []}\n"
     ]
    }
   ],
   "source": [
    "\n",
    "test = '''{\"type\": \"df\",\"background\": \"<p>What is the definition and pronunciation of the term?</p>\",\n",
    "          \"course\": \"jpst200\",\n",
    "          \"des\": \"''' + des + '''\",\n",
    "          \"qaPair\": [{ \n",
    "              \"question\": \"''' + qes + '''\",\n",
    "              \"answer\": \"''' + ans + '''\"\n",
    "              }],\n",
    "          \"wrongAnswer\": []}'''\n",
    "# print(test)\n",
    "testjsonload = json.loads(test)\n",
    "print(testjsonload)"
   ]
  },
  {
   "cell_type": "code",
   "execution_count": null,
   "id": "458c0c24-769d-40db-9982-049a0b1cc4f1",
   "metadata": {},
   "outputs": [],
   "source": []
  }
 ],
 "metadata": {
  "kernelspec": {
   "display_name": "Python 3 (ipykernel)",
   "language": "python",
   "name": "python3"
  },
  "language_info": {
   "codemirror_mode": {
    "name": "ipython",
    "version": 3
   },
   "file_extension": ".py",
   "mimetype": "text/x-python",
   "name": "python",
   "nbconvert_exporter": "python",
   "pygments_lexer": "ipython3",
   "version": "3.9.7"
  }
 },
 "nbformat": 4,
 "nbformat_minor": 5
}
