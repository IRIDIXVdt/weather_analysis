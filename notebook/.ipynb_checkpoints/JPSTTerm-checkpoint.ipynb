{
 "cells": [
  {
   "cell_type": "code",
   "execution_count": 1,
   "id": "1b95b494-cc68-463f-9a6d-443328e729d9",
   "metadata": {},
   "outputs": [],
   "source": [
    "import pandas as pd"
   ]
  },
  {
   "cell_type": "code",
   "execution_count": 2,
   "id": "8e867da7-9d4a-41e6-be99-ebdc37391724",
   "metadata": {},
   "outputs": [],
   "source": [
    "df_process = pd.read_csv(\"../data/L13.csv\", names=[\"spell\",\"term\",\"english\"])"
   ]
  },
  {
   "cell_type": "code",
   "execution_count": 19,
   "id": "145e1fb1-6240-4d72-b333-05953fe8e3f8",
   "metadata": {},
   "outputs": [
    {
     "name": "stdout",
     "output_type": "stream",
     "text": [
      "          spell        term                              english\n",
      "0         ウェイター         NaN                               waiter\n",
      "1         おじいさん         NaN                 grandfather; old man\n",
      "2           おとな          大人                                adult\n",
      "3         がいこくご         外国語                     foreign language\n",
      "4           がっき          楽器                   musical instrument\n",
      "5           からて          空手                               karate\n",
      "6           カレー         NaN                                curry\n",
      "7           きもの          着物   kimono; Japanese traditional dress\n",
      "8           ケーキ         NaN                                 cake\n",
      "9          こうこく          広告                        advertisement\n",
      "10         こうちゃ          紅茶                      tea (black tea)\n",
      "11          ことば          言葉                             language\n",
      "12          ゴルフ         NaN                                 golf\n",
      "13         セーター         NaN                              sweater\n",
      "14           ぞう           象                             elephant\n",
      "15        バイオリン         NaN                               violin\n",
      "16          バイク         NaN                            motorbike\n",
      "17          ぶっか          物価                    (consumer) prices\n",
      "18         ぶんぽう          文法                              grammar\n",
      "19         べんごし         弁護士                               lawyer\n",
      "20         ぼしゅう          募集                          recruitment\n",
      "21           みせ           店                          shop; store\n",
      "22          やくざ         NaN                     yakuza; gangster\n",
      "23         やくそく          約束                 promise; appointment\n",
      "24         レポート         NaN                         (term) paper\n",
      "25         わたくし           私                           I (formal)\n",
      "26         うれしい         NaN                                 glad\n",
      "27         かなしい         悲しい                                  sad\n",
      "28          からい          辛い                 hot and spicy; salty\n",
      "29         きびしい         厳しい                               strict\n",
      "30          ちかい          近い                          close; near\n",
      "31         いろいろ         NaN          various; different kinds of\n",
      "32         しあわせ          幸せ            happy (lasting happiness)\n",
      "33           だめ         NaN                              no good\n",
      "34           あむ          編む                              to knit\n",
      "35           かす          貸す                     to lend; to rent\n",
      "36         がんばる         頑張る        to do one's best; to try hard\n",
      "37           なく          泣く                               to cry\n",
      "38          みがく          磨く          to brush (teeth); to polish\n",
      "39     やくそくをまもる       約束を守る                    to keep a promise\n",
      "40       かんどうする        感動する         to be moved/touched (by ...)\n",
      "41     いらっしゃいます         NaN  (someone honorable) is present/home\n",
      "42          じつは          実は             as a matter of fact, ...\n",
      "43          ぜんぶ          全部                                  all\n",
      "44         いちにち          一日                              one day\n",
      "45          ふつか          二日                             two days\n",
      "46          みっか          三日                           three days\n",
      "47          よっか          四日                            four days\n",
      "48          いつか          五日                            five days\n",
      "49          むいか          六日                             six days\n",
      "50          なのか          七日                           seven days\n",
      "51          ようか          八日                           eight days\n",
      "52         ここのか          九日                            nine days\n",
      "53          とおか          十日                             ten days\n",
      "54  よろしくおねがいします  よろしくお願いします               Thank you (in advance)\n"
     ]
    }
   ],
   "source": [
    "# fill in the empty terms\n",
    "df_newTerm = df_process[[\"spell\"]]\n",
    "df_newTerm = df_newTerm.rename(columns={\"spell\": \"term\"})\n",
    "# print(df_newTerm)\n",
    "df_process.combine_first(df_newTerm)\n",
    "\n",
    "print(df_process)"
   ]
  },
  {
   "cell_type": "code",
   "execution_count": null,
   "id": "685d5e71-b720-47ec-a032-abce4c76f2fc",
   "metadata": {},
   "outputs": [],
   "source": []
  }
 ],
 "metadata": {
  "kernelspec": {
   "display_name": "Python 3 (ipykernel)",
   "language": "python",
   "name": "python3"
  },
  "language_info": {
   "codemirror_mode": {
    "name": "ipython",
    "version": 3
   },
   "file_extension": ".py",
   "mimetype": "text/x-python",
   "name": "python",
   "nbconvert_exporter": "python",
   "pygments_lexer": "ipython3",
   "version": "3.9.7"
  }
 },
 "nbformat": 4,
 "nbformat_minor": 5
}
